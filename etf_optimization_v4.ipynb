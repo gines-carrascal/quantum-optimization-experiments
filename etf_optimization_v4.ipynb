{
 "cells": [
  {
   "cell_type": "code",
   "execution_count": null,
   "metadata": {},
   "outputs": [],
   "source": [
    "#!pip uninstall 'qiskit-aqua' -y\n",
    "!pip install --upgrade 'qiskit[visualization,optimization]'"
   ]
  },
  {
   "cell_type": "code",
   "execution_count": 10,
   "metadata": {},
   "outputs": [
    {
     "output_type": "stream",
     "name": "stderr",
     "text": [
      "ibmqfactory.load_account:WARNING:2021-04-15 11:25:02,910: Credentials are already in use. The existing account in the session will be replaced.\n"
     ]
    }
   ],
   "source": [
    "%matplotlib inline\n",
    "# Importing standard Qiskit libraries and configuring account\n",
    "from qiskit import Aer, IBMQ\n",
    "\n",
    "from qiskit.opflow import PauliExpectation, CVaRExpectation\n",
    "\n",
    "\n",
    "from qiskit_optimization import QuadraticProgram\n",
    "from qiskit_optimization.converters import QuadraticProgramToQubo\n",
    "from qiskit_optimization.algorithms import GroverOptimizer \n",
    "\n",
    "from qiskit.tools.jupyter import *\n",
    "\n",
    "from qiskit.utils import algorithm_globals\n",
    "algorithm_globals.random_seed = 123456\n",
    "algorithm_globals.massive=True\n",
    "\n",
    "\n",
    "import numpy as np\n",
    "import math\n",
    "from docplex.mp.model import Model\n",
    "from math import log\n",
    "\n",
    "# Loading your IBM Q account(s)\n",
    "provider = IBMQ.load_account()"
   ]
  },
  {
   "cell_type": "markdown",
   "metadata": {},
   "source": [
    "# ETF Optimization (Use_case_v3) \n"
   ]
  },
  {
   "cell_type": "markdown",
   "metadata": {},
   "source": [
    "## Binary representation of integers limited to budget amount\n",
    "\n",
    "(Based on H2 Hypothesis in paper v1 and stock grouping in paper v2)\n",
    "\n",
    "$\\begin{aligned}\n",
    "\\min_{x \\in \\mathbb{N}^n}  q x^T \\Sigma x - \\mu^T x\\\\\n",
    "\\end{aligned}$\n",
    "\n",
    "subject to:\n",
    "\n",
    "$\\begin{aligned}\n",
    "\\ \\sum_{i=0}^{n} S^T x \\le B,\\quad x \\in \\mathbb{N}^n,\\quad S \\in \\mathbb{R}^n,\\quad B \\in \\mathbb{R} \\qquad \\approx_{k\\to\\infty}  \\qquad \\sum_{i=0}^{n}  ceil( \\frac{k}{\\overline{S}}s_i) x_i \\le floor(\\frac{k}{\\overline{S}}B) ,\\quad k \\in \\mathbb{R},\\quad ceil(.), floor(.) \\in \\mathbb{N}\\\\\n",
    "\\end{aligned}$\n",
    "\n",
    "integer variables $x_i$ bounded to:\n",
    "\n",
    "$\\begin{aligned}\n",
    "0 \\le x_i \\le 2^{floor(log_{2}(\\frac{B}{\\min_{j}{s_j}}))}-1\n",
    "\\end{aligned}$\n",
    "\n",
    "where we use the following notation:\n",
    "\n",
    "- $x \\in \\mathbb{N}^n$ denotes the vector of integer decision variables, which indicate which assets to pick and how much ($x[i] > 0$) and which not to pick ($x[i] = 0$),\n",
    "- $y$ represents the binary decomposition of $x$\n",
    "- $\\mu \\in \\mathbb{R}^n$ defines the expected returns for the assets,\n",
    "- $\\Sigma \\in \\mathbb{R}^{n \\times n}$ specifies the covariances between the assets,\n",
    "- $q > 0$ controls the risk appetite of the decision maker,\n",
    "- $S$ defined as the prices related to the (grouped) stocks ( $\\overline{S}$ is the mean of the prices),\n",
    "- $B$ denotes the budget, i.e. the maximum amount of money to be spent purchasing assets.\n",
    "- $ceil$ is the operator that rounds up to the nearest integer\n",
    "- $floor$ is the operator that rounds down to the nearest integer\n",
    "- $k$ is a scaling factor used to tune the precision of the conversions to integer\n"
   ]
  },
  {
   "cell_type": "code",
   "execution_count": 2,
   "metadata": {},
   "outputs": [],
   "source": [
    "# prepare problem instance\n",
    "n = 5            # number of assets\n",
    "q = 0.5          # risk factor\n",
    "budget = 2250  # budget"
   ]
  },
  {
   "cell_type": "code",
   "execution_count": 3,
   "metadata": {},
   "outputs": [
    {
     "output_type": "stream",
     "name": "stdout",
     "text": [
      " ̃s: [120.08 167.61 139.72 129.84 111.07]\n"
     ]
    }
   ],
   "source": [
    "\n",
    "# ETF actual prices\n",
    "s_real = np.array([60.04, 55.87, 139.72, 32.46, 111.07])\n",
    "grouping = np.array([2, 3, 1, 4, 1])\n",
    "s=grouping*s_real\n",
    "\n",
    "print(' ̃s:', s)"
   ]
  },
  {
   "cell_type": "code",
   "execution_count": 4,
   "metadata": {},
   "outputs": [
    {
     "output_type": "stream",
     "name": "stdout",
     "text": [
      "133.664\n"
     ]
    }
   ],
   "source": [
    "print(s.mean())"
   ]
  },
  {
   "cell_type": "code",
   "execution_count": 5,
   "metadata": {},
   "outputs": [
    {
     "output_type": "stream",
     "name": "stdout",
     "text": [
      "Budget variables per asset: 4\n"
     ]
    }
   ],
   "source": [
    "budget_bits = int(np.log2(budget/np.min(s))) #TODO: int rounds down. I guess this is just excluding high volatility solutions.\n",
    "print(\"Budget variables per asset:\", budget_bits)"
   ]
  },
  {
   "cell_type": "code",
   "execution_count": 6,
   "metadata": {},
   "outputs": [],
   "source": [
    "mu = np.array([0.00290, 0.00206, 0.00033, 0.00263, -0.00012])\n",
    "sigma = np.array([\n",
    "    [ 0.00016, 0.00014, 0.00013, 0.00016, 0.00015],\n",
    "    [ 0.00014, 0.00016, 0.00013, 0.00016, 0.00014],\n",
    "    [ 0.00013, 0.00013, 0.00028, 0.00013, 0.00028],\n",
    "    [ 0.00016, 0.00016, 0.00013, 0.00021, 0.00015],\n",
    "    [ 0.00015, 0.00014, 0.00028, 0.00015, 0.00030]\n",
    "])"
   ]
  },
  {
   "cell_type": "code",
   "execution_count": 7,
   "metadata": {},
   "outputs": [
    {
     "output_type": "execute_result",
     "data": {
      "text/plain": [
       "docplex.mp.LinearConstraint[](7x0+9x1+8x2+7x3+6x4,LE,117)"
      ]
     },
     "metadata": {},
     "execution_count": 7
    }
   ],
   "source": [
    "# create docplex model\n",
    "mdl = Model('portfolio_optimization')\n",
    "\n",
    "x = mdl.integer_var_list((f'x{i}' for i in range(n)), lb=0, ub=2**budget_bits-1)\n",
    "\n",
    "objective = mdl.sum([mu[i]*x[i] for i in range(n)])\n",
    "objective -= q * mdl.sum([sigma[i,j]*x[i]*x[j] for i in range(n) for j in range(n)])\n",
    "mdl.maximize(objective)\n",
    "\n",
    "k = 7\n",
    "norm = s.mean()/k\n",
    "mdl.add_constraint(mdl.sum(x[i] * math.ceil(s[i]/norm) for i in range(n)) <= math.floor(budget/norm))\n"
   ]
  },
  {
   "cell_type": "code",
   "execution_count": 8,
   "metadata": {},
   "outputs": [
    {
     "output_type": "stream",
     "name": "stdout",
     "text": [
      "### Original problem:\n\\ This file has been generated by DOcplex\n\\ ENCODING=ISO-8859-1\n\\Problem name: portfolio_optimization\n\nMaximize\n obj: 0.002900000000 x0 + 0.002060000000 x1 + 0.000330000000 x2\n      + 0.002630000000 x3 - 0.000120000000 x4 + [ - 0.000160000000 x0^2\n      - 0.000280000000 x0*x1 - 0.000260000000 x0*x2 - 0.000320000000 x0*x3\n      - 0.000300000000 x0*x4 - 0.000160000000 x1^2 - 0.000260000000 x1*x2\n      - 0.000320000000 x1*x3 - 0.000280000000 x1*x4 - 0.000280000000 x2^2\n      - 0.000260000000 x2*x3 - 0.000560000000 x2*x4 - 0.000210000000 x3^2\n      - 0.000300000000 x3*x4 - 0.000300000000 x4^2 ]/2\nSubject To\n c0: 7 x0 + 9 x1 + 8 x2 + 7 x3 + 6 x4 <= 117\n\nBounds\n       x0 <= 15\n       x1 <= 15\n       x2 <= 15\n       x3 <= 15\n       x4 <= 15\n\nGenerals\n x0 x1 x2 x3 x4\nEnd\n\n"
     ]
    }
   ],
   "source": [
    "qp = QuadraticProgram()\n",
    "qp.from_docplex(mdl)\n",
    "\n",
    "print('### Original problem:')\n",
    "print(qp.export_as_lp_string())"
   ]
  },
  {
   "cell_type": "code",
   "execution_count": 14,
   "metadata": {},
   "outputs": [],
   "source": [
    "backend = Aer.get_backend('qasm_simulator')\n",
    "\n",
    "cop = GroverOptimizer(num_value_qubits= 3, num_iterations = 3, quantum_instance=backend)\n",
    "classical_result = cop.solve(qp)"
   ]
  },
  {
   "cell_type": "code",
   "execution_count": null,
   "metadata": {},
   "outputs": [],
   "source": [
    "conv = QuadraticProgramToQubo()\n",
    "qp1 = conv.convert(qp)\n",
    "\n",
    "print('### quadratic_program_to_qubo:')\n",
    "print(qp1.export_as_lp_string())\n",
    "print(\"Penalty:\", conv.penalty)"
   ]
  },
  {
   "cell_type": "code",
   "execution_count": null,
   "metadata": {
    "tags": []
   },
   "outputs": [],
   "source": [
    "# Call the aggregator with 'optimizer' as the algorithm of choice\n",
    "results = aggregator('optimizer', optim_dict)"
   ]
  },
  {
   "cell_type": "code",
   "execution_count": null,
   "metadata": {},
   "outputs": [],
   "source": [
    "results['result'].variables_dict"
   ]
  },
  {
   "cell_type": "code",
   "execution_count": null,
   "metadata": {},
   "outputs": [],
   "source": [
    "print()\n",
    "print('Integer results (amount of groups of stocks): x')\n",
    "x_val = [results['result'].variables_dict[f'x{i}'] for i in range(5)]\n",
    "print(x_val)\n",
    "\n",
    "print()\n",
    "print('Amount of individual stock:')\n",
    "x_ind = grouping*x_val\n",
    "print(x_ind)\n",
    "\n",
    "print()\n",
    "print('Amount invest in each stock:')\n",
    "invest = s_real*x_ind\n",
    "print(invest)\n",
    "\n",
    "print()\n",
    "print('Total invest:')\n",
    "print(invest.sum())"
   ]
  },
  {
   "cell_type": "code",
   "execution_count": null,
   "metadata": {},
   "outputs": [],
   "source": []
  },
  {
   "cell_type": "code",
   "execution_count": null,
   "metadata": {},
   "outputs": [],
   "source": []
  },
  {
   "cell_type": "code",
   "execution_count": null,
   "metadata": {},
   "outputs": [],
   "source": [
    "import qiskit.tools.jupyter\n",
    "%qiskit_version_table"
   ]
  },
  {
   "cell_type": "code",
   "execution_count": null,
   "metadata": {},
   "outputs": [],
   "source": [
    "qiskit.__qiskit_version__"
   ]
  },
  {
   "cell_type": "code",
   "execution_count": null,
   "metadata": {},
   "outputs": [],
   "source": []
  },
  {
   "cell_type": "code",
   "execution_count": null,
   "metadata": {},
   "outputs": [],
   "source": []
  },
  {
   "cell_type": "code",
   "execution_count": null,
   "metadata": {},
   "outputs": [],
   "source": []
  },
  {
   "cell_type": "code",
   "execution_count": null,
   "metadata": {},
   "outputs": [],
   "source": []
  },
  {
   "cell_type": "code",
   "execution_count": null,
   "metadata": {},
   "outputs": [],
   "source": [
    "import qiskit.tools.jupyter\n",
    "%qiskit_version_table"
   ]
  },
  {
   "cell_type": "code",
   "execution_count": null,
   "metadata": {},
   "outputs": [],
   "source": [
    "qiskit.__qiskit_version__"
   ]
  },
  {
   "cell_type": "code",
   "execution_count": null,
   "metadata": {},
   "outputs": [],
   "source": []
  }
 ],
 "metadata": {
  "kernelspec": {
   "name": "python385jvsc74a57bd0478c048b3eb5a66684d1dd711b824234a6a6e0e70302b6bbac8c09f287071b21",
   "display_name": "Python 3.8.5 64-bit ('QISKIT_BN': conda)"
  },
  "language_info": {
   "codemirror_mode": {
    "name": "ipython",
    "version": 3
   },
   "file_extension": ".py",
   "mimetype": "text/x-python",
   "name": "python",
   "nbconvert_exporter": "python",
   "pygments_lexer": "ipython3",
   "version": "3.8.5"
  }
 },
 "nbformat": 4,
 "nbformat_minor": 4
}