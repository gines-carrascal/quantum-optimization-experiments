{
 "cells": [
  {
   "cell_type": "code",
   "execution_count": 1,
   "metadata": {},
   "outputs": [],
   "source": [
    "%matplotlib inline\n",
    "# Importing standard Qiskit libraries and configuring account\n",
    "from qiskit import QuantumCircuit, execute, Aer, IBMQ\n",
    "from qiskit.compiler import transpile, assemble\n",
    "from qiskit.tools.jupyter import *\n",
    "from qiskit.visualization import *\n",
    "# Loading your IBM Q account(s)\n",
    "provider = IBMQ.load_account()"
   ]
  },
  {
   "cell_type": "markdown",
   "metadata": {},
   "source": [
    "# Grovers Search algorithm\n",
    "[Grovers search](https://qiskit.org/documentation/stubs/qiskit.aqua.algorithms.Grover.html?highlight=grovers%20algorithm) is a oracular quantum algorithm which is used as a way to solve unstructured search problems. In the following we provide a wrapper to the quantum algorithm that takes as its input a [LogicalExpressionOracle](https://qiskit.org/documentation/stubs/qiskit.aqua.components.oracles.LogicalExpressionOracle.html#qiskit.aqua.components.oracles.LogicalExpressionOracle), a quantum device, and the number of shots to perform. \n",
    "\n",
    "The logical expression is currently setup as a LogicalExpressionOracle object, but can be extended to include [TruthTableOracle](https://qiskit.org/documentation/stubs/qiskit.aqua.components.oracles.TruthTableOracle.html#qiskit.aqua.components.oracles.TruthTableOracle) or other oracles as input to describe the expression. \n",
    "\n",
    "The function returns a returns job instance derived from [BaseJob](https://qiskit.org/documentation/stubs/qiskit.providers.BaseJob.html#qiskit.providers.BaseJob) that is created by the [execution](https://qiskit.org/documentation/apidoc/execute.html?highlight=execute#module-qiskit.execute) function of the [QuantumInstance](https://qiskit.org/documentation/stubs/qiskit.aqua.QuantumInstance.html?highlight=quantuminstance#qiskit.aqua.QuantumInstance). "
   ]
  },
  {
   "cell_type": "code",
   "execution_count": 2,
   "metadata": {},
   "outputs": [],
   "source": [
    "# Import Grover’s algorithm and components classes\n",
    "from qiskit.aqua.algorithms import Grover\n",
    "from qiskit.aqua.components.oracles import LogicalExpressionOracle\n",
    "from qiskit import BasicAer\n",
    "\n",
    "# Import the QuantumInstance module that will allow us to run the algorithm on a simulator and a quantum computer\n",
    "from qiskit.aqua import QuantumInstance"
   ]
  },
  {
   "cell_type": "code",
   "execution_count": 3,
   "metadata": {},
   "outputs": [],
   "source": [
    "# Grover's dictionary is used to wrap all the necessary parameters in one dictionary. \n",
    "# The following is the dictionary we will use for Grover's Search.\n",
    "\"\"\"\n",
    "grovers_dict = {\n",
    "  \"expression\": 'boolean_expression',\n",
    "  \"quantum_instance\": Backend,\n",
    "  \"shots\": 1024\n",
    "}\n",
    "\"\"\"\n",
    "\n",
    "# Define our Grover's search function. This is the function that will be called by the quantum-aggregator class.\n",
    "def grovers_search(dictionary):\n",
    "    oracle = LogicalExpressionOracle(dictionary[\"expression\"])\n",
    "    quantum_instance = QuantumInstance(dictionary[\"quantum_instance\"], shots=dictionary[\"shots\"])\n",
    "    grover = Grover(oracle)\n",
    "    result = grover.run(quantum_instance)\n",
    "    return result"
   ]
  },
  {
   "cell_type": "markdown",
   "metadata": {},
   "source": [
    "### Example\n",
    "Here is just a simple example that runs the `grovers_search` function."
   ]
  },
  {
   "cell_type": "code",
   "execution_count": 4,
   "metadata": {},
   "outputs": [],
   "source": [
    "# Set your logical expression, example of a logical constraint:\n",
    "expression = '((A ^ B) & (C & D) & ~(A & C))'\n",
    "\n",
    "# Set the backend device:\n",
    "backend_device = BasicAer.get_backend('qasm_simulator')"
   ]
  },
  {
   "cell_type": "code",
   "execution_count": 5,
   "metadata": {},
   "outputs": [],
   "source": [
    "# Define the parameters to be used by the Grover's Search algorithm:\n",
    "grovers_dict = {\n",
    "  \"expression\": expression,\n",
    "  \"quantum_instance\": backend_device,\n",
    "  \"shots\": 1024\n",
    "}"
   ]
  },
  {
   "cell_type": "code",
   "execution_count": 6,
   "metadata": {},
   "outputs": [],
   "source": [
    "# Run the algorithm and obtain results\n",
    "res = grovers_search(grovers_dict)"
   ]
  },
  {
   "cell_type": "markdown",
   "metadata": {},
   "source": [
    "### View results \n",
    "Extract results from the `grovers_search` example above."
   ]
  },
  {
   "cell_type": "code",
   "execution_count": 7,
   "metadata": {},
   "outputs": [
    {
     "name": "stdout",
     "output_type": "stream",
     "text": [
      "Top result: 1110\n"
     ]
    }
   ],
   "source": [
    "# Print the top measured result\n",
    "print('Top result:', res['top_measurement'])"
   ]
  },
  {
   "cell_type": "code",
   "execution_count": 8,
   "metadata": {},
   "outputs": [
    {
     "data": {
      "image/png": "[encoded data removed]",
      "text/plain": [
       "<Figure size 504x360 with 1 Axes>"
      ]
     },
     "execution_count": 8,
     "metadata": {},
     "output_type": "execute_result"
    }
   ],
   "source": [
    "# Plot all measured results\n",
    "plot_histogram(res['measurement'])"
   ]
  },
  {
   "cell_type": "markdown",
   "metadata": {},
   "source": [
    "## Extract version tables\n",
    "Two forms of extracting version information. \n",
    "\n",
    "1) is a full extraction which includes system information such as version of Python\n",
    "\n",
    "2) only extracts the version of Qiskit. "
   ]
  },
  {
   "cell_type": "code",
   "execution_count": 9,
   "metadata": {},
   "outputs": [
    {
     "data": {
      "text/html": [
       "<h3>Version Information</h3><table><tr><th>Qiskit Software</th><th>Version</th></tr><tr><td>Qiskit</td><td>0.24.0</td></tr><tr><td>Terra</td><td>0.16.4</td></tr><tr><td>Aer</td><td>0.7.6</td></tr><tr><td>Ignis</td><td>0.5.2</td></tr><tr><td>Aqua</td><td>0.8.2</td></tr><tr><td>IBM Q Provider</td><td>0.12.1</td></tr><tr><th>System information</th></tr><tr><td>Python</td><td>3.7.6 (default, Jan  8 2020, 13:42:34) \n",
       "[Clang 4.0.1 (tags/RELEASE_401/final)]</td></tr><tr><td>OS</td><td>Darwin</td></tr><tr><td>CPUs</td><td>6</td></tr><tr><td>Memory (Gb)</td><td>16.0</td></tr><tr><td colspan='2'>Tue Mar 16 22:01:53 2021 EDT</td></tr></table>"
      ],
      "text/plain": [
       "<IPython.core.display.HTML object>"
      ]
     },
     "metadata": {},
     "output_type": "display_data"
    }
   ],
   "source": [
    "import qiskit.tools.jupyter\n",
    "%qiskit_version_table"
   ]
  },
  {
   "cell_type": "code",
   "execution_count": 10,
   "metadata": {},
   "outputs": [
    {
     "data": {
      "text/plain": [
       "{'qiskit-terra': '0.16.4',\n",
       " 'qiskit-aer': '0.7.6',\n",
       " 'qiskit-ignis': '0.5.2',\n",
       " 'qiskit-ibmq-provider': '0.12.1',\n",
       " 'qiskit-aqua': '0.8.2',\n",
       " 'qiskit': '0.24.0'}"
      ]
     },
     "execution_count": 10,
     "metadata": {},
     "output_type": "execute_result"
    }
   ],
   "source": [
    "qiskit.__qiskit_version__"
   ]
  }
 ],
 "metadata": {
  "kernelspec": {
   "display_name": "Python 3",
   "language": "python",
   "name": "python3"
  },
  "language_info": {
   "codemirror_mode": {
    "name": "ipython",
    "version": 3
   },
   "file_extension": ".py",
   "mimetype": "text/x-python",
   "name": "python",
   "nbconvert_exporter": "python",
   "pygments_lexer": "ipython3",
   "version": "3.7.6"
  }
 },
 "nbformat": 4,
 "nbformat_minor": 4
}
